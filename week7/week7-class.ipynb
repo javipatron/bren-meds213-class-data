{
 "cells": [
  {
   "cell_type": "code",
   "execution_count": 1,
   "metadata": {},
   "outputs": [],
   "source": [
    "# Load in the Libraries\n",
    "import sqlite3\n",
    "import sys"
   ]
  },
  {
   "cell_type": "code",
   "execution_count": 2,
   "metadata": {},
   "outputs": [
    {
     "name": "stdout",
     "output_type": "stream",
     "text": [
      "Python environment test successful!\n",
      "Python version: 3.9.7 (default, Sep 16 2021, 08:50:36) \n",
      "[Clang 10.0.0 ]\n",
      "Hello, world!\n"
     ]
    }
   ],
   "source": [
    "def test_environment():\n",
    "    print(\"Python environment test successful!\")\n",
    "    print(\"Python version:\", sys.version)\n",
    "    print(\"Hello, world!\")\n",
    "\n",
    "test_environment()"
   ]
  },
  {
   "cell_type": "code",
   "execution_count": 3,
   "metadata": {},
   "outputs": [
    {
     "name": "stdout",
     "output_type": "stream",
     "text": [
      "sqlite3 library is available.\n"
     ]
    }
   ],
   "source": [
    "import sqlite3\n",
    "\n",
    "if sqlite3.sqlite_version_info:\n",
    "    print(\"sqlite3 library is available.\")\n",
    "else:\n",
    "    print(\"sqlite3 library is not found.\")"
   ]
  },
  {
   "cell_type": "code",
   "execution_count": 4,
   "metadata": {},
   "outputs": [
    {
     "data": {
      "text/plain": [
       "[2, 3, 5]"
      ]
     },
     "execution_count": 4,
     "metadata": {},
     "output_type": "execute_result"
    }
   ],
   "source": [
    "\"Hello, %s!\" % \"Greg\"\n",
    "## Tuples\n",
    "[2,3,5] #list with 3 elements"
   ]
  },
  {
   "cell_type": "code",
   "execution_count": 5,
   "metadata": {},
   "outputs": [
    {
     "data": {
      "text/plain": [
       "[8, 27, 125, 343]"
      ]
     },
     "execution_count": 5,
     "metadata": {},
     "output_type": "execute_result"
    }
   ],
   "source": [
    "# List Comprehensions\n",
    "\n",
    "my_list = [2,3,5,7]\n",
    "\n",
    "list_squares = []\n",
    "\n",
    "for n in my_list:\n",
    "    list_squares.append(n*n)\n",
    "\n",
    "list_squares\n",
    "\n",
    "# List comprehension example\n",
    "[n*n*n for n in my_list]\n",
    "\n"
   ]
  },
  {
   "cell_type": "code",
   "execution_count": 6,
   "metadata": {},
   "outputs": [
    {
     "data": {
      "text/plain": [
       "[2, 3, 5, 7]"
      ]
     },
     "execution_count": 6,
     "metadata": {},
     "output_type": "execute_result"
    }
   ],
   "source": [
    "# Query Results\n",
    "\n",
    "query_result = [(2,), (3,), (5,), (7,)]\n",
    "[t[0] for t in query_result]"
   ]
  },
  {
   "attachments": {},
   "cell_type": "markdown",
   "metadata": {},
   "source": [
    "# Database programming"
   ]
  },
  {
   "cell_type": "code",
   "execution_count": 7,
   "metadata": {},
   "outputs": [
    {
     "data": {
      "text/plain": [
       "<sqlite3.Connection at 0x7fc9304f7c60>"
      ]
     },
     "execution_count": 7,
     "metadata": {},
     "output_type": "execute_result"
    }
   ],
   "source": [
    "import sqlite3\n",
    "conn = sqlite3.connect(\"database.db\")\n",
    "conn"
   ]
  },
  {
   "attachments": {},
   "cell_type": "markdown",
   "metadata": {},
   "source": [
    "Got a connection, now need a cursor"
   ]
  },
  {
   "cell_type": "code",
   "execution_count": 8,
   "metadata": {},
   "outputs": [
    {
     "data": {
      "text/plain": [
       "<sqlite3.Cursor at 0x7fc951238260>"
      ]
     },
     "execution_count": 8,
     "metadata": {},
     "output_type": "execute_result"
    }
   ],
   "source": [
    "c = conn.cursor()\n",
    "c"
   ]
  },
  {
   "cell_type": "code",
   "execution_count": 9,
   "metadata": {},
   "outputs": [
    {
     "data": {
      "text/plain": [
       "<sqlite3.Cursor at 0x7fc951238260>"
      ]
     },
     "execution_count": 9,
     "metadata": {},
     "output_type": "execute_result"
    }
   ],
   "source": [
    "c.execute(\"\"\"\n",
    "SELECT Nest_ID, floatAge, ageMethod\n",
    "FROM Bird_nests\n",
    "LIMIT 10\"\"\"\n",
    ")"
   ]
  },
  {
   "cell_type": "code",
   "execution_count": 10,
   "metadata": {},
   "outputs": [
    {
     "data": {
      "text/plain": [
       "[('14HPE1', None, None),\n",
       " ('11eaba', None, None),\n",
       " ('11eabaagc01', 6.0, 'float'),\n",
       " ('11eabaagv01', 3.0, 'float'),\n",
       " ('11eababbc02', 4.0, 'float'),\n",
       " ('11eababsv01', 2.0, 'float'),\n",
       " ('11eabaduh01', 2.0, 'float'),\n",
       " ('11eabaduv01', 5.0, 'float'),\n",
       " ('11eabarpc01', 4.0, 'float'),\n",
       " ('11eabarpc02', 4.0, 'float')]"
      ]
     },
     "execution_count": 10,
     "metadata": {},
     "output_type": "execute_result"
    }
   ],
   "source": [
    "c.fetchall()"
   ]
  },
  {
   "cell_type": "code",
   "execution_count": 16,
   "metadata": {},
   "outputs": [
    {
     "data": {
      "text/plain": [
       "(1547,)"
      ]
     },
     "execution_count": 16,
     "metadata": {},
     "output_type": "execute_result"
    }
   ],
   "source": [
    "c.execute(\"SELECT Nest_ID FROM Bird_nests LIMIT 10\")\n",
    "[t[0] for t in c.fetchall()]\n",
    "\n",
    "\n",
    "c.execute(\"SELECT COUNT(*) FROM Bird_nests\")\n",
    "c.fetchone()"
   ]
  },
  {
   "cell_type": "code",
   "execution_count": 17,
   "metadata": {},
   "outputs": [
    {
     "name": "stdout",
     "output_type": "stream",
     "text": [
      "got nest ID 04coatapg01\n",
      "got nest ID 04coatapg02\n",
      "got nest ID 04coatapj01\n",
      "got nest ID 04coatapj02\n",
      "got nest ID 04coatapp01\n",
      "got nest ID 04coatapp02\n",
      "got nest ID 04coatapp03\n",
      "got nest ID 04coatbbg01\n",
      "got nest ID 04coatbbg02\n",
      "got nest ID 04coatbbg03\n"
     ]
    }
   ],
   "source": [
    "c.execute(\"SELECT Nest_ID FROM Bird_nests LIMIT 10\")\n",
    "for row in c:\n",
    "    print(\"got nest ID %s\" % row[0])"
   ]
  },
  {
   "attachments": {},
   "cell_type": "markdown",
   "metadata": {},
   "source": [
    "# Do things other than querying"
   ]
  },
  {
   "cell_type": "code",
   "execution_count": 18,
   "metadata": {},
   "outputs": [
    {
     "data": {
      "text/plain": [
       "<sqlite3.Cursor at 0x7fc951238260>"
      ]
     },
     "execution_count": 18,
     "metadata": {},
     "output_type": "execute_result"
    }
   ],
   "source": [
    "c.execute(\"\"\"\n",
    "CREATE TEMP TABLE mytemp AS\n",
    "SELECT * FROM Bird_nests LIMIT 10\"\"\")"
   ]
  },
  {
   "cell_type": "code",
   "execution_count": 20,
   "metadata": {},
   "outputs": [
    {
     "data": {
      "text/plain": [
       "<function Cursor.fetchall>"
      ]
     },
     "execution_count": 20,
     "metadata": {},
     "output_type": "execute_result"
    }
   ],
   "source": [
    "c.fetchall"
   ]
  }
 ],
 "metadata": {
  "kernelspec": {
   "display_name": "base",
   "language": "python",
   "name": "python3"
  },
  "language_info": {
   "codemirror_mode": {
    "name": "ipython",
    "version": 3
   },
   "file_extension": ".py",
   "mimetype": "text/x-python",
   "name": "python",
   "nbconvert_exporter": "python",
   "pygments_lexer": "ipython3",
   "version": "3.9.7"
  },
  "orig_nbformat": 4
 },
 "nbformat": 4,
 "nbformat_minor": 2
}
