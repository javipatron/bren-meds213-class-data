{
 "cells": [
  {
   "cell_type": "code",
   "execution_count": 1,
   "id": "3cef88d4-298a-4703-b31f-51ca63984385",
   "metadata": {},
   "outputs": [
    {
     "data": {
      "text/plain": [
       "'/Users/gjanee-local/work/meds213/bren-meds213-class-data/week7'"
      ]
     },
     "execution_count": 1,
     "metadata": {},
     "output_type": "execute_result"
    }
   ],
   "source": [
    "%pwd"
   ]
  },
  {
   "cell_type": "code",
   "execution_count": 2,
   "id": "84aae061-f474-4af4-92e6-88f19428d08e",
   "metadata": {},
   "outputs": [
    {
     "name": "stdout",
     "output_type": "stream",
     "text": [
      "Untitled.ipynb  database.db\n"
     ]
    }
   ],
   "source": [
    "%ls"
   ]
  },
  {
   "cell_type": "markdown",
   "id": "95b0daed-43e6-4271-b6cb-170d2fb72859",
   "metadata": {},
   "source": [
    "There are lots of these % Jupyter \"magic\" commands, a few are Bash equivalents.\n",
    "\n",
    "# Python preliminaries"
   ]
  },
  {
   "cell_type": "markdown",
   "id": "a6040356-a6b9-4c7f-8aa6-172bdea6c01a",
   "metadata": {},
   "source": [
    "## Mega quotes\n",
    "\n",
    "Allow you to create a string that spans lines, useful for long queries"
   ]
  },
  {
   "cell_type": "code",
   "execution_count": 1,
   "id": "fcb9ad89-d9fe-4f70-88b1-c7acf8b19ba9",
   "metadata": {},
   "outputs": [
    {
     "data": {
      "text/plain": [
       "'\\nSELECT * FROM table\\nWHERE whatever\\nsdfsd\\nsdf'"
      ]
     },
     "execution_count": 1,
     "metadata": {},
     "output_type": "execute_result"
    }
   ],
   "source": [
    "\"this is a string\"\n",
    "\n",
    "'this is also a string'\n",
    "\n",
    "\"\"\"\n",
    "SELECT * FROM table\n",
    "WHERE whatever\n",
    "sdfsd\n",
    "sdf\"\"\""
   ]
  },
  {
   "cell_type": "markdown",
   "id": "55077669-32c5-4dde-ac16-00a35dde39f7",
   "metadata": {},
   "source": [
    "## String interpolation"
   ]
  },
  {
   "cell_type": "code",
   "execution_count": 6,
   "id": "f366b10b-41c7-4411-864a-44da65897c54",
   "metadata": {},
   "outputs": [
    {
     "data": {
      "text/plain": [
       "'Hello, Greg!'"
      ]
     },
     "execution_count": 6,
     "metadata": {},
     "output_type": "execute_result"
    }
   ],
   "source": [
    "\"Hello, %s!\" % \"Greg\""
   ]
  },
  {
   "cell_type": "code",
   "execution_count": 7,
   "id": "c346d851-0570-4aae-be02-836927a4823b",
   "metadata": {},
   "outputs": [
    {
     "data": {
      "text/plain": [
       "'Renata, Greg says hi'"
      ]
     },
     "execution_count": 7,
     "metadata": {},
     "output_type": "execute_result"
    }
   ],
   "source": [
    "\"%s, %s says hi\" % (\"Renata\", \"Greg\")"
   ]
  },
  {
   "cell_type": "markdown",
   "id": "7e44c991-88e1-4156-bcd8-1cda9f329ff3",
   "metadata": {},
   "source": [
    "## Tuples\n",
    "Tuples are like lists, but are immutable"
   ]
  },
  {
   "cell_type": "code",
   "execution_count": 8,
   "id": "21685905-850b-4753-b9ac-f0908fa2bb53",
   "metadata": {},
   "outputs": [
    {
     "data": {
      "text/plain": [
       "[2]"
      ]
     },
     "execution_count": 8,
     "metadata": {},
     "output_type": "execute_result"
    }
   ],
   "source": [
    "[2, 3, 5] # list with 3 elements\n",
    "[2, 3]    # list with 2 elements\n",
    "[2]       # list with 1 element"
   ]
  },
  {
   "cell_type": "code",
   "execution_count": 9,
   "id": "ba00d2f1-a995-4807-bfd4-6e0bbf6aa1b1",
   "metadata": {},
   "outputs": [
    {
     "data": {
      "text/plain": [
       "(2,)"
      ]
     },
     "execution_count": 9,
     "metadata": {},
     "output_type": "execute_result"
    }
   ],
   "source": [
    "(2, 3, 5) # tuple with 3 elements\n",
    "(2, 3)    # tuple with 2 elements\n",
    "(2,)      # tuple with 1 element"
   ]
  },
  {
   "cell_type": "markdown",
   "id": "fe8b2d0b-519e-4348-82e9-35232510f95d",
   "metadata": {},
   "source": [
    "1-tuple has weird syntax to avoid interpretation as parenthesized expression"
   ]
  },
  {
   "cell_type": "code",
   "execution_count": 10,
   "id": "c2fb0a9e-8353-4eed-b9df-ee8ef4d7159c",
   "metadata": {},
   "outputs": [
    {
     "data": {
      "text/plain": [
       "2"
      ]
     },
     "execution_count": 10,
     "metadata": {},
     "output_type": "execute_result"
    }
   ],
   "source": [
    "(2) # parenthesized expression"
   ]
  },
  {
   "cell_type": "code",
   "execution_count": 11,
   "id": "d0a040a5-441a-4b3b-bc00-dff8f00d2398",
   "metadata": {},
   "outputs": [
    {
     "data": {
      "text/plain": [
       "2"
      ]
     },
     "execution_count": 11,
     "metadata": {},
     "output_type": "execute_result"
    }
   ],
   "source": [
    "my_list = [2, 3, 5]\n",
    "my_list[0]"
   ]
  },
  {
   "cell_type": "code",
   "execution_count": 12,
   "id": "31f23f65-bba4-45bd-8ced-4b8c3ce61364",
   "metadata": {},
   "outputs": [
    {
     "data": {
      "text/plain": [
       "2"
      ]
     },
     "execution_count": 12,
     "metadata": {},
     "output_type": "execute_result"
    }
   ],
   "source": [
    "my_tuple = (2, 3, 5)\n",
    "my_tuple[0]"
   ]
  },
  {
   "cell_type": "code",
   "execution_count": 13,
   "id": "1c69fe4d-838a-47be-a2d1-dc5ea7b49cf1",
   "metadata": {},
   "outputs": [
    {
     "data": {
      "text/plain": [
       "[2, 3, 47]"
      ]
     },
     "execution_count": 13,
     "metadata": {},
     "output_type": "execute_result"
    }
   ],
   "source": [
    "my_list[2] = 47\n",
    "my_list"
   ]
  },
  {
   "cell_type": "code",
   "execution_count": 14,
   "id": "edde460f-6712-485c-88c8-e2dfd737f0f6",
   "metadata": {},
   "outputs": [
    {
     "ename": "TypeError",
     "evalue": "'tuple' object does not support item assignment",
     "output_type": "error",
     "traceback": [
      "\u001b[0;31m---------------------------------------------------------------------------\u001b[0m",
      "\u001b[0;31mTypeError\u001b[0m                                 Traceback (most recent call last)",
      "Cell \u001b[0;32mIn[14], line 1\u001b[0m\n\u001b[0;32m----> 1\u001b[0m \u001b[43mmy_tuple\u001b[49m\u001b[43m[\u001b[49m\u001b[38;5;241;43m2\u001b[39;49m\u001b[43m]\u001b[49m \u001b[38;5;241m=\u001b[39m \u001b[38;5;241m47\u001b[39m\n",
      "\u001b[0;31mTypeError\u001b[0m: 'tuple' object does not support item assignment"
     ]
    }
   ],
   "source": [
    "my_tuple[2] = 47"
   ]
  },
  {
   "cell_type": "markdown",
   "id": "78c9422f-2356-4347-b145-69faad5a282c",
   "metadata": {},
   "source": [
    "## List comprehensions\n",
    "\n",
    "Much more concise than writing a loop"
   ]
  },
  {
   "cell_type": "code",
   "execution_count": 16,
   "id": "4b52b9bb-b038-4c95-aa5e-2aefb6578c2e",
   "metadata": {},
   "outputs": [
    {
     "data": {
      "text/plain": [
       "[4, 9, 25, 49]"
      ]
     },
     "execution_count": 16,
     "metadata": {},
     "output_type": "execute_result"
    }
   ],
   "source": [
    "my_list = [2, 3, 5, 7]\n",
    "list_squares = []\n",
    "for n in my_list:\n",
    "    list_squares.append(n*n)\n",
    "list_squares"
   ]
  },
  {
   "cell_type": "code",
   "execution_count": 17,
   "id": "64cf86df-838b-46de-8062-ca97e2924f41",
   "metadata": {},
   "outputs": [
    {
     "data": {
      "text/plain": [
       "[4, 9, 25, 49]"
      ]
     },
     "execution_count": 17,
     "metadata": {},
     "output_type": "execute_result"
    }
   ],
   "source": [
    "[n*n for n in my_list]"
   ]
  },
  {
   "cell_type": "code",
   "execution_count": 18,
   "id": "c3dbe2b0-f339-406c-9842-8d55012c61f9",
   "metadata": {},
   "outputs": [
    {
     "data": {
      "text/plain": [
       "[2, 3, 5, 7]"
      ]
     },
     "execution_count": 18,
     "metadata": {},
     "output_type": "execute_result"
    }
   ],
   "source": [
    "query_result = [(2,), (3,), (5,), (7,)]\n",
    "[t[0] for t in query_result]"
   ]
  },
  {
   "cell_type": "markdown",
   "id": "ce6d2b59-8337-492a-ad3c-b66d96442a8f",
   "metadata": {},
   "source": [
    "# Database programming\n",
    "\n",
    "Each database has its own module, or \"driver\".  Here we use the `sqlite3` module.  But all drivers provide the same DB-API interface.\n",
    "\n",
    "Most RDBMSs: specify network location of database.  SQLite: specify filename.  If file doesn't exist, a new database is created."
   ]
  },
  {
   "cell_type": "code",
   "execution_count": 19,
   "id": "a43a03fc-3774-4919-a13b-9f3bc603d6bf",
   "metadata": {},
   "outputs": [],
   "source": [
    "import sqlite3\n",
    "conn = sqlite3.connect(\"database.db\")"
   ]
  },
  {
   "cell_type": "code",
   "execution_count": 20,
   "id": "6df6dcea-4572-4657-9746-aae24aefdb1f",
   "metadata": {},
   "outputs": [
    {
     "data": {
      "text/plain": [
       "<sqlite3.Connection at 0x111d9fd40>"
      ]
     },
     "execution_count": 20,
     "metadata": {},
     "output_type": "execute_result"
    }
   ],
   "source": [
    "conn"
   ]
  },
  {
   "cell_type": "markdown",
   "id": "db5b0ff5-8559-45e9-9a0b-4afb1035f376",
   "metadata": {},
   "source": [
    "Got a connection, now need a cursor.  Can use same cursor for multiple sequential queries.  Can have multiple cursors open at once."
   ]
  },
  {
   "cell_type": "code",
   "execution_count": 21,
   "id": "a54720b5-d2ab-4e22-81cf-c4d271bb3b3f",
   "metadata": {},
   "outputs": [
    {
     "data": {
      "text/plain": [
       "<sqlite3.Cursor at 0x112680d40>"
      ]
     },
     "execution_count": 21,
     "metadata": {},
     "output_type": "execute_result"
    }
   ],
   "source": [
    "c = conn.cursor()\n",
    "c"
   ]
  },
  {
   "cell_type": "code",
   "execution_count": 22,
   "id": "3067009b-2c80-4bcf-9918-0f8700ff2f87",
   "metadata": {},
   "outputs": [
    {
     "data": {
      "text/plain": [
       "<sqlite3.Cursor at 0x112680d40>"
      ]
     },
     "execution_count": 22,
     "metadata": {},
     "output_type": "execute_result"
    }
   ],
   "source": [
    "c.execute(\"\"\"\n",
    "    SELECT Nest_ID, floatAge, ageMethod\n",
    "    FROM Bird_nests\n",
    "    LIMIT 10\"\"\")"
   ]
  },
  {
   "cell_type": "markdown",
   "id": "5f4ae497-a1de-4f93-88a0-1f625b128a2e",
   "metadata": {},
   "source": [
    "Get all results.  Get back list of tuples.  Tuple element order corresponds to columns.  Notice database types carry over to Python.  NULL maps to None."
   ]
  },
  {
   "cell_type": "code",
   "execution_count": 23,
   "id": "79c16b67-4280-416b-a2d6-4d632622e118",
   "metadata": {},
   "outputs": [
    {
     "data": {
      "text/plain": [
       "[('14HPE1', None, None),\n",
       " ('11eaba', None, None),\n",
       " ('11eabaagc01', 6.0, 'float'),\n",
       " ('11eabaagv01', 3.0, 'float'),\n",
       " ('11eababbc02', 4.0, 'float'),\n",
       " ('11eababsv01', 2.0, 'float'),\n",
       " ('11eabaduh01', 2.0, 'float'),\n",
       " ('11eabaduv01', 5.0, 'float'),\n",
       " ('11eabarpc01', 4.0, 'float'),\n",
       " ('11eabarpc02', 4.0, 'float')]"
      ]
     },
     "execution_count": 23,
     "metadata": {},
     "output_type": "execute_result"
    }
   ],
   "source": [
    "c.fetchall()"
   ]
  },
  {
   "cell_type": "markdown",
   "id": "c2059d39-6081-4451-b39f-8dac6157bc0a",
   "metadata": {},
   "source": [
    "The cursor doesn't hold on to results, it's just a means of retrieving them one time."
   ]
  },
  {
   "cell_type": "code",
   "execution_count": 24,
   "id": "23a33944-bf93-49ce-8560-23fc57da4157",
   "metadata": {},
   "outputs": [
    {
     "data": {
      "text/plain": [
       "[]"
      ]
     },
     "execution_count": 24,
     "metadata": {},
     "output_type": "execute_result"
    }
   ],
   "source": [
    "c.fetchall()"
   ]
  },
  {
   "cell_type": "markdown",
   "id": "d0877448-19ad-4bc5-9b7b-40f1974d07c0",
   "metadata": {},
   "source": [
    "If just one column, still get tuples back."
   ]
  },
  {
   "cell_type": "code",
   "execution_count": 25,
   "id": "0ba0b777-2b3e-47a3-9124-e96d6587fd52",
   "metadata": {},
   "outputs": [
    {
     "data": {
      "text/plain": [
       "[('04coatapg01',),\n",
       " ('04coatapg02',),\n",
       " ('04coatapj01',),\n",
       " ('04coatapj02',),\n",
       " ('04coatapp01',),\n",
       " ('04coatapp02',),\n",
       " ('04coatapp03',),\n",
       " ('04coatbbg01',),\n",
       " ('04coatbbg02',),\n",
       " ('04coatbbg03',)]"
      ]
     },
     "execution_count": 25,
     "metadata": {},
     "output_type": "execute_result"
    }
   ],
   "source": [
    "c.execute(\"SELECT Nest_ID FROM Bird_nests LIMIT 10\")\n",
    "c.fetchall()"
   ]
  },
  {
   "cell_type": "code",
   "execution_count": 26,
   "id": "c4407155-8158-473c-a01a-a68883e03c24",
   "metadata": {},
   "outputs": [
    {
     "data": {
      "text/plain": [
       "['04coatapg01',\n",
       " '04coatapg02',\n",
       " '04coatapj01',\n",
       " '04coatapj02',\n",
       " '04coatapp01',\n",
       " '04coatapp02',\n",
       " '04coatapp03',\n",
       " '04coatbbg01',\n",
       " '04coatbbg02',\n",
       " '04coatbbg03']"
      ]
     },
     "execution_count": 26,
     "metadata": {},
     "output_type": "execute_result"
    }
   ],
   "source": [
    "c.execute(\"SELECT Nest_ID FROM Bird_nests LIMIT 10\")\n",
    "[t[0] for t in c.fetchall()]"
   ]
  },
  {
   "cell_type": "code",
   "execution_count": 27,
   "id": "c744f28b-28d7-4abc-98b9-ba7e8a1c598d",
   "metadata": {},
   "outputs": [
    {
     "data": {
      "text/plain": [
       "[(1547,)]"
      ]
     },
     "execution_count": 27,
     "metadata": {},
     "output_type": "execute_result"
    }
   ],
   "source": [
    "c.execute(\"SELECT COUNT(*) FROM Bird_nests\")\n",
    "c.fetchall()"
   ]
  },
  {
   "cell_type": "markdown",
   "id": "f710cacc-3786-403f-b909-8890e8ed75f6",
   "metadata": {},
   "source": [
    "If only one row coming back, convenient to use `fetchone()`"
   ]
  },
  {
   "cell_type": "code",
   "execution_count": 28,
   "id": "53ff8a6c-6255-4bf3-84e8-ef2f2e0aebbd",
   "metadata": {},
   "outputs": [
    {
     "data": {
      "text/plain": [
       "(1547,)"
      ]
     },
     "execution_count": 28,
     "metadata": {},
     "output_type": "execute_result"
    }
   ],
   "source": [
    "c.execute(\"SELECT COUNT(*) FROM Bird_nests\")\n",
    "c.fetchone()"
   ]
  },
  {
   "cell_type": "markdown",
   "id": "bf8e44bc-a45e-4460-987b-79c3fcc0a94a",
   "metadata": {},
   "source": [
    "BTW, if you want to get help on things in Python, ask for help on a variable, will get back help on that variable's type."
   ]
  },
  {
   "cell_type": "code",
   "execution_count": null,
   "id": "4a194038-00a2-4a28-99ed-fb66537589cb",
   "metadata": {},
   "outputs": [],
   "source": [
    "help(c)"
   ]
  },
  {
   "cell_type": "markdown",
   "id": "4b331f05-f0ed-40fa-ae4b-fab1b0b62b22",
   "metadata": {},
   "source": [
    "Can use cursor as iterator.  Technique for large returns, more efficient than `fetchall()`."
   ]
  },
  {
   "cell_type": "code",
   "execution_count": 30,
   "id": "9bfb3dd8-6738-4138-8920-939bbd80f4e8",
   "metadata": {},
   "outputs": [
    {
     "name": "stdout",
     "output_type": "stream",
     "text": [
      "got nest ID 04coatapg01\n",
      "got nest ID 04coatapg02\n",
      "got nest ID 04coatapj01\n",
      "got nest ID 04coatapj02\n",
      "got nest ID 04coatapp01\n",
      "got nest ID 04coatapp02\n",
      "got nest ID 04coatapp03\n",
      "got nest ID 04coatbbg01\n",
      "got nest ID 04coatbbg02\n",
      "got nest ID 04coatbbg03\n"
     ]
    }
   ],
   "source": [
    "c.execute(\"SELECT Nest_ID FROM Bird_nests LIMIT 10\")\n",
    "for row in c:\n",
    "    print(\"got nest ID %s\" % row[0])"
   ]
  },
  {
   "cell_type": "markdown",
   "id": "623df2c1-d1bf-487a-aca7-f1b53f4d4da0",
   "metadata": {},
   "source": [
    "Same, using new-style interpolation using `f\"...\"` strings."
   ]
  },
  {
   "cell_type": "code",
   "execution_count": 31,
   "id": "4b8e04bd-81b1-43bb-8efc-d2603a344370",
   "metadata": {},
   "outputs": [
    {
     "name": "stdout",
     "output_type": "stream",
     "text": [
      "got nest ID 04coatapg01\n",
      "got nest ID 04coatapg02\n",
      "got nest ID 04coatapj01\n",
      "got nest ID 04coatapj02\n",
      "got nest ID 04coatapp01\n",
      "got nest ID 04coatapp02\n",
      "got nest ID 04coatapp03\n",
      "got nest ID 04coatbbg01\n",
      "got nest ID 04coatbbg02\n",
      "got nest ID 04coatbbg03\n"
     ]
    }
   ],
   "source": [
    "c.execute(\"SELECT Nest_ID FROM Bird_nests LIMIT 10\")\n",
    "for row in c:\n",
    "    print(f\"got nest ID {row[0]}\")"
   ]
  },
  {
   "cell_type": "markdown",
   "id": "f064e896-8b86-48c1-bfa6-092855788950",
   "metadata": {},
   "source": [
    "# Do things other than querying"
   ]
  },
  {
   "cell_type": "code",
   "execution_count": 32,
   "id": "97256e44-5280-4ed9-b5e7-6ad7e9eb67f6",
   "metadata": {},
   "outputs": [
    {
     "data": {
      "text/plain": [
       "<sqlite3.Cursor at 0x112680d40>"
      ]
     },
     "execution_count": 32,
     "metadata": {},
     "output_type": "execute_result"
    }
   ],
   "source": [
    "c.execute(\"\"\"\n",
    "    CREATE TEMP TABLE mytemp AS\n",
    "    SELECT * FROM Bird_nests LIMIT 10\n",
    "\"\"\")"
   ]
  },
  {
   "cell_type": "markdown",
   "id": "ab6b4101-0a40-49d2-b05e-513e40b08dbf",
   "metadata": {},
   "source": [
    "No return in this case.  Note that temp tables are local to the session, not globally visible."
   ]
  },
  {
   "cell_type": "code",
   "execution_count": 33,
   "id": "09da7853-070d-4ada-af02-113081c5179c",
   "metadata": {},
   "outputs": [
    {
     "data": {
      "text/plain": [
       "[]"
      ]
     },
     "execution_count": 33,
     "metadata": {},
     "output_type": "execute_result"
    }
   ],
   "source": [
    "c.fetchall()"
   ]
  },
  {
   "cell_type": "code",
   "execution_count": null,
   "id": "c3ba330c-d132-46cf-be24-69a303c5b2ef",
   "metadata": {},
   "outputs": [],
   "source": [
    "c.execute(\"SELECT * FROM mytemp\")\n",
    "c.fetchall()"
   ]
  },
  {
   "cell_type": "code",
   "execution_count": 35,
   "id": "b2130caf-26a6-4cfe-80a8-c61ec78f5c37",
   "metadata": {},
   "outputs": [
    {
     "data": {
      "text/plain": [
       "<sqlite3.Cursor at 0x112680d40>"
      ]
     },
     "execution_count": 35,
     "metadata": {},
     "output_type": "execute_result"
    }
   ],
   "source": [
    "c.execute(\"\"\"\n",
    "    CREATE TABLE mytemp AS\n",
    "    SELECT * FROM Bird_nests LIMIT 10\n",
    "\"\"\")"
   ]
  },
  {
   "cell_type": "markdown",
   "id": "5ac19aa5-b8d6-49f9-967a-7405f75c5d66",
   "metadata": {},
   "source": [
    "This table is now visible."
   ]
  }
 ],
 "metadata": {
  "kernelspec": {
   "display_name": "Python 3 (ipykernel)",
   "language": "python",
   "name": "python3"
  },
  "language_info": {
   "codemirror_mode": {
    "name": "ipython",
    "version": 3
   },
   "file_extension": ".py",
   "mimetype": "text/x-python",
   "name": "python",
   "nbconvert_exporter": "python",
   "pygments_lexer": "ipython3",
   "version": "3.10.8"
  }
 },
 "nbformat": 4,
 "nbformat_minor": 5
}
