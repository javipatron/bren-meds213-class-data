{
 "cells": [
  {
   "attachments": {},
   "cell_type": "markdown",
   "metadata": {},
   "source": [
    "# Week 7 - Wednesday May 17th"
   ]
  },
  {
   "cell_type": "code",
   "execution_count": 1,
   "metadata": {},
   "outputs": [],
   "source": [
    "import sqlite3"
   ]
  },
  {
   "attachments": {},
   "cell_type": "markdown",
   "metadata": {},
   "source": [
    "## Fragility"
   ]
  },
  {
   "cell_type": "code",
   "execution_count": 10,
   "metadata": {},
   "outputs": [],
   "source": [
    "conn = sqlite3.connect(\"database.db\")\n",
    "c = conn.cursor()\n",
    "c.execute(\"SELECT * FROM Species\")\n",
    "c.fetchall()\n",
    "rows = c.fetchall()"
   ]
  },
  {
   "cell_type": "code",
   "execution_count": 11,
   "metadata": {},
   "outputs": [
    {
     "ename": "IndexError",
     "evalue": "list index out of range",
     "output_type": "error",
     "traceback": [
      "\u001b[0;31m---------------------------------------------------------------------------\u001b[0m",
      "\u001b[0;31mIndexError\u001b[0m                                Traceback (most recent call last)",
      "\u001b[1;32m/Users/javipatron/Documents/MEDS/Courses/eds213/bren-meds213-class-data/week7/week7-class2.ipynb Cell 5\u001b[0m in \u001b[0;36m<cell line: 1>\u001b[0;34m()\u001b[0m\n\u001b[0;32m----> <a href='vscode-notebook-cell:/Users/javipatron/Documents/MEDS/Courses/eds213/bren-meds213-class-data/week7/week7-class2.ipynb#W4sZmlsZQ%3D%3D?line=0'>1</a>\u001b[0m rows[\u001b[39m0\u001b[39;49m]\n\u001b[1;32m      <a href='vscode-notebook-cell:/Users/javipatron/Documents/MEDS/Courses/eds213/bren-meds213-class-data/week7/week7-class2.ipynb#W4sZmlsZQ%3D%3D?line=2'>3</a>\u001b[0m c\u001b[39m.\u001b[39mexecute(\u001b[39m\"\"\"\u001b[39m\n\u001b[1;32m      <a href='vscode-notebook-cell:/Users/javipatron/Documents/MEDS/Courses/eds213/bren-meds213-class-data/week7/week7-class2.ipynb#W4sZmlsZQ%3D%3D?line=3'>4</a>\u001b[0m \u001b[39m    SELECT Code, Common_name, Scientific_name, Relevance\u001b[39m\n\u001b[1;32m      <a href='vscode-notebook-cell:/Users/javipatron/Documents/MEDS/Courses/eds213/bren-meds213-class-data/week7/week7-class2.ipynb#W4sZmlsZQ%3D%3D?line=4'>5</a>\u001b[0m \u001b[39m    FROM Species\u001b[39m\n\u001b[1;32m      <a href='vscode-notebook-cell:/Users/javipatron/Documents/MEDS/Courses/eds213/bren-meds213-class-data/week7/week7-class2.ipynb#W4sZmlsZQ%3D%3D?line=5'>6</a>\u001b[0m \u001b[39m    LIMIT 3\u001b[39m\u001b[39m\"\"\"\u001b[39m)\n\u001b[1;32m      <a href='vscode-notebook-cell:/Users/javipatron/Documents/MEDS/Courses/eds213/bren-meds213-class-data/week7/week7-class2.ipynb#W4sZmlsZQ%3D%3D?line=7'>8</a>\u001b[0m rows \u001b[39m=\u001b[39m c\u001b[39m.\u001b[39mfetchall()\n",
      "\u001b[0;31mIndexError\u001b[0m: list index out of range"
     ]
    }
   ],
   "source": [
    "rows[0]\n",
    "\n",
    "c.execute(\"\"\"\n",
    "    SELECT Code, Common_name, Scientific_name, Relevance\n",
    "    FROM Species\n",
    "    LIMIT 3\"\"\")\n",
    "\n",
    "rows = c.fetchall()\n",
    "\n",
    "rows[0][1]"
   ]
  },
  {
   "attachments": {},
   "cell_type": "markdown",
   "metadata": {},
   "source": [
    "## Safe interpolation of query parameters"
   ]
  },
  {
   "cell_type": "code",
   "execution_count": 12,
   "metadata": {},
   "outputs": [
    {
     "data": {
      "text/plain": [
       "('Aaron Gottesman',)"
      ]
     },
     "execution_count": 12,
     "metadata": {},
     "output_type": "execute_result"
    }
   ],
   "source": [
    "c.execute(\"SELECT Name FROM Personnel LIMIT 1\").fetchone()"
   ]
  },
  {
   "cell_type": "code",
   "execution_count": 13,
   "metadata": {},
   "outputs": [],
   "source": [
    "template = \"\"\"SELECT Name FROM Personnel\n",
    "    WHERE Abbreviation = '%s'\"\"\""
   ]
  },
  {
   "cell_type": "code",
   "execution_count": 15,
   "metadata": {},
   "outputs": [
    {
     "data": {
      "text/plain": [
       "[('Aaron Gottesman',)]"
      ]
     },
     "execution_count": 15,
     "metadata": {},
     "output_type": "execute_result"
    }
   ],
   "source": [
    "abbrev = \"agottesman\"\n",
    "c.execute(template % abbrev)\n",
    "c.fetchall()"
   ]
  },
  {
   "cell_type": "code",
   "execution_count": 25,
   "metadata": {},
   "outputs": [
    {
     "name": "stdout",
     "output_type": "stream",
     "text": [
      "species agsq has 0 nests\n",
      "species amcr has 0 nests\n",
      "species amgp has 29 nests\n",
      "species arfo has 0 nests\n",
      "species arte has 0 nests\n",
      "species basa has 0 nests\n",
      "species bbis has 0 nests\n",
      "species bbpl has 43 nests\n",
      "species bbsa has 0 nests\n",
      "species besw has 0 nests\n",
      "species bltu has 0 nests\n",
      "species brant has 0 nests\n",
      "species brbe has 0 nests\n",
      "species brle has 0 nests\n",
      "species btcu has 0 nests\n",
      "species btgo has 3 nests\n",
      "species cole has 0 nests\n",
      "species cora has 0 nests\n",
      "species cosn has 0 nests\n",
      "species crpl has 2 nests\n",
      "species cusa has 0 nests\n",
      "species dunl has 101 nests\n",
      "species eywa has 0 nests\n",
      "species glgu has 0 nests\n",
      "species goea has 0 nests\n",
      "species gwfg has 0 nests\n",
      "species gwgu has 0 nests\n",
      "species gwte has 0 nests\n",
      "species gyrf has 0 nests\n",
      "species herg has 3 nests\n",
      "species hore has 0 nests\n",
      "species hugo has 0 nests\n",
      "species kill has 0 nests\n",
      "species lalo has 33 nests\n",
      "species lbdo has 1 nests\n",
      "species lesa has 0 nests\n",
      "species leye has 0 nests\n",
      "species list has 0 nests\n",
      "species ltdu has 0 nests\n",
      "species ltja has 0 nests\n",
      "species ltwe has 0 nests\n",
      "species mago has 0 nests\n",
      "species megu has 0 nests\n",
      "species merl has 0 nests\n",
      "species noha has 0 nests\n",
      "species nopi has 0 nests\n",
      "species nrvo has 0 nests\n",
      "species nsho has 0 nests\n",
      "species pagp has 0 nests\n",
      "species paja has 2 nests\n",
      "species palo has 0 nests\n",
      "species pefa has 0 nests\n",
      "species pesa has 14 nests\n",
      "species pobe has 0 nests\n",
      "species poja has 0 nests\n",
      "species pusa has 0 nests\n",
      "species refo has 0 nests\n",
      "species rekn has 0 nests\n",
      "species reph has 80 nests\n",
      "species rlha has 0 nests\n",
      "species rnph has 74 nests\n",
      "species rnst has 0 nests\n",
      "species rosa has 0 nests\n",
      "species rtpi has 0 nests\n",
      "species ruff has 0 nests\n",
      "species rutu has 30 nests\n",
      "species sacr has 0 nests\n",
      "species sagu has 0 nests\n",
      "species sand has 0 nests\n",
      "species savs has 0 nests\n",
      "species sbdo has 1 nests\n",
      "species sbgu has 0 nests\n",
      "species seow has 0 nests\n",
      "species sepl has 105 nests\n",
      "species sesa has 485 nests\n",
      "species snow has 0 nests\n",
      "species spei has 0 nests\n",
      "species spre has 0 nests\n",
      "species spsa has 0 nests\n",
      "species spts has 0 nests\n",
      "species stsa has 0 nests\n",
      "species stwe has 0 nests\n",
      "species test has 1 nests\n",
      "species thgu has 0 nests\n",
      "species tusw has 0 nests\n",
      "species tuvo has 0 nests\n",
      "species unfa has 0 nests\n",
      "species ungu has 0 nests\n",
      "species unja has 0 nests\n",
      "species unle has 0 nests\n",
      "species unra has 0 nests\n",
      "species vegu has 0 nests\n",
      "species wesa has 457 nests\n",
      "species whim has 0 nests\n",
      "species wipt has 0 nests\n",
      "species wisn has 0 nests\n",
      "species wolv has 0 nests\n",
      "species wosa has 0 nests\n",
      "species wrsa has 83 nests\n"
     ]
    }
   ],
   "source": [
    "template = \"\"\"SELECT COUNT(*)\n",
    "FROM Bird_nests\n",
    "WHERE Species = '%s'\"\"\"\n",
    "\n",
    "c.execute(\"SELECT Code FROM Species\")\n",
    "\n",
    "for row in c:\n",
    "    code = row[0] # A way of \n",
    "    c2 = conn.cursor()\n",
    "    c2.execute(template%code)\n",
    "    print(\"species %s has %s nests\" % (code, c2.fetchone()[0]))"
   ]
  },
  {
   "cell_type": "code",
   "execution_count": 26,
   "metadata": {},
   "outputs": [
    {
     "name": "stdout",
     "output_type": "stream",
     "text": [
      "species agsq has 0 nests\n",
      "species amcr has 0 nests\n",
      "species amgp has 29 nests\n",
      "species arfo has 0 nests\n",
      "species arte has 0 nests\n",
      "species basa has 0 nests\n",
      "species bbis has 0 nests\n",
      "species bbpl has 43 nests\n",
      "species bbsa has 0 nests\n",
      "species besw has 0 nests\n",
      "species bltu has 0 nests\n",
      "species brant has 0 nests\n",
      "species brbe has 0 nests\n",
      "species brle has 0 nests\n",
      "species btcu has 0 nests\n",
      "species btgo has 3 nests\n",
      "species cole has 0 nests\n",
      "species cora has 0 nests\n",
      "species cosn has 0 nests\n",
      "species crpl has 2 nests\n",
      "species cusa has 0 nests\n",
      "species dunl has 101 nests\n",
      "species eywa has 0 nests\n",
      "species glgu has 0 nests\n",
      "species goea has 0 nests\n",
      "species gwfg has 0 nests\n",
      "species gwgu has 0 nests\n",
      "species gwte has 0 nests\n",
      "species gyrf has 0 nests\n",
      "species herg has 3 nests\n",
      "species hore has 0 nests\n",
      "species hugo has 0 nests\n",
      "species kill has 0 nests\n",
      "species lalo has 33 nests\n",
      "species lbdo has 1 nests\n",
      "species lesa has 0 nests\n",
      "species leye has 0 nests\n",
      "species list has 0 nests\n",
      "species ltdu has 0 nests\n",
      "species ltja has 0 nests\n",
      "species ltwe has 0 nests\n",
      "species mago has 0 nests\n",
      "species megu has 0 nests\n",
      "species merl has 0 nests\n",
      "species noha has 0 nests\n",
      "species nopi has 0 nests\n",
      "species nrvo has 0 nests\n",
      "species nsho has 0 nests\n",
      "species pagp has 0 nests\n",
      "species paja has 2 nests\n",
      "species palo has 0 nests\n",
      "species pefa has 0 nests\n",
      "species pesa has 14 nests\n",
      "species pobe has 0 nests\n",
      "species poja has 0 nests\n",
      "species pusa has 0 nests\n",
      "species refo has 0 nests\n",
      "species rekn has 0 nests\n",
      "species reph has 80 nests\n",
      "species rlha has 0 nests\n",
      "species rnph has 74 nests\n",
      "species rnst has 0 nests\n",
      "species rosa has 0 nests\n",
      "species rtpi has 0 nests\n",
      "species ruff has 0 nests\n",
      "species rutu has 30 nests\n",
      "species sacr has 0 nests\n",
      "species sagu has 0 nests\n",
      "species sand has 0 nests\n",
      "species savs has 0 nests\n",
      "species sbdo has 1 nests\n",
      "species sbgu has 0 nests\n",
      "species seow has 0 nests\n",
      "species sepl has 105 nests\n",
      "species sesa has 485 nests\n",
      "species snow has 0 nests\n",
      "species spei has 0 nests\n",
      "species spre has 0 nests\n",
      "species spsa has 0 nests\n",
      "species spts has 0 nests\n",
      "species stsa has 0 nests\n",
      "species stwe has 0 nests\n",
      "species test has 1 nests\n",
      "species thgu has 0 nests\n",
      "species tusw has 0 nests\n",
      "species tuvo has 0 nests\n",
      "species unfa has 0 nests\n",
      "species ungu has 0 nests\n",
      "species unja has 0 nests\n",
      "species unle has 0 nests\n",
      "species unra has 0 nests\n",
      "species vegu has 0 nests\n",
      "species wesa has 457 nests\n",
      "species whim has 0 nests\n",
      "species wipt has 0 nests\n",
      "species wisn has 0 nests\n",
      "species wolv has 0 nests\n",
      "species wosa has 0 nests\n",
      "species wrsa has 83 nests\n"
     ]
    }
   ],
   "source": [
    "template = \"\"\"SELECT COUNT(*)\n",
    "FROM Bird_nests\n",
    "WHERE Species = ?  \"\"\"\n",
    "\n",
    "c.execute(\"SELECT Code FROM Species\")\n",
    "\n",
    "for row in c:\n",
    "    code = row[0] \n",
    "    c2 = conn.cursor()\n",
    "    c2.execute(template, [code])\n",
    "    print(\"species %s has %s nests\" % (code, c2.fetchone()[0]))"
   ]
  },
  {
   "cell_type": "code",
   "execution_count": 27,
   "metadata": {},
   "outputs": [
    {
     "data": {
      "text/plain": [
       "('agottesman', 'Aaron Gottesman')"
      ]
     },
     "execution_count": 27,
     "metadata": {},
     "output_type": "execute_result"
    }
   ],
   "source": [
    "name = \"Aaron Gottesman\"\n",
    "template = \"\"\"SELECT * FROM Personnel\n",
    "    WHERE Name = '%s'\"\"\"\n",
    "\n",
    "c.execute(template % name).fetchone()"
   ]
  },
  {
   "cell_type": "code",
   "execution_count": 30,
   "metadata": {},
   "outputs": [
    {
     "ename": "OperationalError",
     "evalue": "near \"Brien\": syntax error",
     "output_type": "error",
     "traceback": [
      "\u001b[0;31m---------------------------------------------------------------------------\u001b[0m",
      "\u001b[0;31mOperationalError\u001b[0m                          Traceback (most recent call last)",
      "\u001b[1;32m/Users/javipatron/Documents/MEDS/Courses/eds213/bren-meds213-class-data/week7/week7-class2.ipynb Cell 13\u001b[0m in \u001b[0;36m<cell line: 5>\u001b[0;34m()\u001b[0m\n\u001b[1;32m      <a href='vscode-notebook-cell:/Users/javipatron/Documents/MEDS/Courses/eds213/bren-meds213-class-data/week7/week7-class2.ipynb#X16sZmlsZQ%3D%3D?line=0'>1</a>\u001b[0m name \u001b[39m=\u001b[39m \u001b[39m\"\u001b[39m\u001b[39mDan O\u001b[39m\u001b[39m'\u001b[39m\u001b[39mBrien\u001b[39m\u001b[39m\"\u001b[39m\n\u001b[1;32m      <a href='vscode-notebook-cell:/Users/javipatron/Documents/MEDS/Courses/eds213/bren-meds213-class-data/week7/week7-class2.ipynb#X16sZmlsZQ%3D%3D?line=1'>2</a>\u001b[0m template \u001b[39m=\u001b[39m \u001b[39m\"\"\"\u001b[39m\u001b[39mSELECT * FROM Personnel\u001b[39m\n\u001b[1;32m      <a href='vscode-notebook-cell:/Users/javipatron/Documents/MEDS/Courses/eds213/bren-meds213-class-data/week7/week7-class2.ipynb#X16sZmlsZQ%3D%3D?line=2'>3</a>\u001b[0m \u001b[39m    WHERE Name = \u001b[39m\u001b[39m'\u001b[39m\u001b[39m%s\u001b[39;00m\u001b[39m\"\"\"\u001b[39m\n\u001b[0;32m----> <a href='vscode-notebook-cell:/Users/javipatron/Documents/MEDS/Courses/eds213/bren-meds213-class-data/week7/week7-class2.ipynb#X16sZmlsZQ%3D%3D?line=4'>5</a>\u001b[0m c\u001b[39m.\u001b[39;49mexecute(template \u001b[39m%\u001b[39;49m name)\u001b[39m.\u001b[39mfetchone()\n",
      "\u001b[0;31mOperationalError\u001b[0m: near \"Brien\": syntax error"
     ]
    }
   ],
   "source": [
    "name = \"Dan O'Brien\"\n",
    "template = \"\"\"SELECT * FROM Personnel\n",
    "    WHERE Name = '%s\"\"\"\n",
    "\n",
    "c.execute(template % name).fetchone()"
   ]
  },
  {
   "cell_type": "code",
   "execution_count": 31,
   "metadata": {},
   "outputs": [
    {
     "data": {
      "text/plain": [
       "\"SELECT * FROM Personnel\\n    WHERE Name = 'Dan O'Brien\""
      ]
     },
     "execution_count": 31,
     "metadata": {},
     "output_type": "execute_result"
    }
   ],
   "source": [
    "template % name"
   ]
  },
  {
   "cell_type": "code",
   "execution_count": 32,
   "metadata": {},
   "outputs": [],
   "source": [
    "name = \"Dan O'Brien\"\n",
    "\n",
    "template = \"\"\"select * FROM Personnel\n",
    "    WHERE Name = ?\"\"\"\n",
    "\n",
    "c.execute(template,[name]).fetchone()"
   ]
  },
  {
   "attachments": {},
   "cell_type": "markdown",
   "metadata": {},
   "source": [
    "## Pandas Concenience Function"
   ]
  },
  {
   "cell_type": "code",
   "execution_count": 33,
   "metadata": {},
   "outputs": [],
   "source": [
    "import pandas as pd"
   ]
  },
  {
   "cell_type": "code",
   "execution_count": 34,
   "metadata": {},
   "outputs": [
    {
     "data": {
      "text/html": [
       "<div>\n",
       "<style scoped>\n",
       "    .dataframe tbody tr th:only-of-type {\n",
       "        vertical-align: middle;\n",
       "    }\n",
       "\n",
       "    .dataframe tbody tr th {\n",
       "        vertical-align: top;\n",
       "    }\n",
       "\n",
       "    .dataframe thead th {\n",
       "        text-align: right;\n",
       "    }\n",
       "</style>\n",
       "<table border=\"1\" class=\"dataframe\">\n",
       "  <thead>\n",
       "    <tr style=\"text-align: right;\">\n",
       "      <th></th>\n",
       "      <th>Code</th>\n",
       "      <th>Common_name</th>\n",
       "      <th>Scientific_name</th>\n",
       "      <th>Relevance</th>\n",
       "    </tr>\n",
       "  </thead>\n",
       "  <tbody>\n",
       "    <tr>\n",
       "      <th>0</th>\n",
       "      <td>agsq</td>\n",
       "      <td>Arctic ground squirrel</td>\n",
       "      <td>Spermophilus parryii</td>\n",
       "      <td>Potential predator (eggs; mammal)</td>\n",
       "    </tr>\n",
       "    <tr>\n",
       "      <th>1</th>\n",
       "      <td>amcr</td>\n",
       "      <td>American Crow</td>\n",
       "      <td>Corvus brachyrhynchos</td>\n",
       "      <td>Potential predator (avian)</td>\n",
       "    </tr>\n",
       "    <tr>\n",
       "      <th>2</th>\n",
       "      <td>amgp</td>\n",
       "      <td>American Golden-Plover</td>\n",
       "      <td>Pluvialis dominica</td>\n",
       "      <td>Study species</td>\n",
       "    </tr>\n",
       "    <tr>\n",
       "      <th>3</th>\n",
       "      <td>arfo</td>\n",
       "      <td>Arctic fox</td>\n",
       "      <td>Alopex lagopus</td>\n",
       "      <td>Potential predator (mammal)</td>\n",
       "    </tr>\n",
       "    <tr>\n",
       "      <th>4</th>\n",
       "      <td>arte</td>\n",
       "      <td>Arctic Tern</td>\n",
       "      <td>Sterna paradisaea</td>\n",
       "      <td>Incidental monitoring</td>\n",
       "    </tr>\n",
       "    <tr>\n",
       "      <th>...</th>\n",
       "      <td>...</td>\n",
       "      <td>...</td>\n",
       "      <td>...</td>\n",
       "      <td>...</td>\n",
       "    </tr>\n",
       "    <tr>\n",
       "      <th>94</th>\n",
       "      <td>wipt</td>\n",
       "      <td>Willow Ptarmigan</td>\n",
       "      <td>Lagopus lagopus</td>\n",
       "      <td>Incidental monitoring</td>\n",
       "    </tr>\n",
       "    <tr>\n",
       "      <th>95</th>\n",
       "      <td>wisn</td>\n",
       "      <td>Wilson's Snipe</td>\n",
       "      <td>Gallinago delicata</td>\n",
       "      <td>Study species</td>\n",
       "    </tr>\n",
       "    <tr>\n",
       "      <th>96</th>\n",
       "      <td>wolv</td>\n",
       "      <td>Wolverine</td>\n",
       "      <td>Gulo gulo</td>\n",
       "      <td>Potential predator (mammal)</td>\n",
       "    </tr>\n",
       "    <tr>\n",
       "      <th>97</th>\n",
       "      <td>wosa</td>\n",
       "      <td>Wood Sandpiper</td>\n",
       "      <td>Tringa glareola</td>\n",
       "      <td>Study species</td>\n",
       "    </tr>\n",
       "    <tr>\n",
       "      <th>98</th>\n",
       "      <td>wrsa</td>\n",
       "      <td>White-rumped Sandpiper</td>\n",
       "      <td>Calidris fuscicollis</td>\n",
       "      <td>Study species</td>\n",
       "    </tr>\n",
       "  </tbody>\n",
       "</table>\n",
       "<p>99 rows × 4 columns</p>\n",
       "</div>"
      ],
      "text/plain": [
       "    Code             Common_name        Scientific_name  \\\n",
       "0   agsq  Arctic ground squirrel   Spermophilus parryii   \n",
       "1   amcr           American Crow  Corvus brachyrhynchos   \n",
       "2   amgp  American Golden-Plover     Pluvialis dominica   \n",
       "3   arfo              Arctic fox         Alopex lagopus   \n",
       "4   arte             Arctic Tern      Sterna paradisaea   \n",
       "..   ...                     ...                    ...   \n",
       "94  wipt        Willow Ptarmigan        Lagopus lagopus   \n",
       "95  wisn          Wilson's Snipe     Gallinago delicata   \n",
       "96  wolv               Wolverine              Gulo gulo   \n",
       "97  wosa          Wood Sandpiper        Tringa glareola   \n",
       "98  wrsa  White-rumped Sandpiper   Calidris fuscicollis   \n",
       "\n",
       "                            Relevance  \n",
       "0   Potential predator (eggs; mammal)  \n",
       "1          Potential predator (avian)  \n",
       "2                       Study species  \n",
       "3         Potential predator (mammal)  \n",
       "4               Incidental monitoring  \n",
       "..                                ...  \n",
       "94              Incidental monitoring  \n",
       "95                      Study species  \n",
       "96        Potential predator (mammal)  \n",
       "97                      Study species  \n",
       "98                      Study species  \n",
       "\n",
       "[99 rows x 4 columns]"
      ]
     },
     "execution_count": 34,
     "metadata": {},
     "output_type": "execute_result"
    }
   ],
   "source": [
    "pd.read_sql(\"SELECT * FROM Species\", conn)"
   ]
  }
 ],
 "metadata": {
  "kernelspec": {
   "display_name": "course_env",
   "language": "python",
   "name": "python3"
  },
  "language_info": {
   "codemirror_mode": {
    "name": "ipython",
    "version": 3
   },
   "file_extension": ".py",
   "mimetype": "text/x-python",
   "name": "python",
   "nbconvert_exporter": "python",
   "pygments_lexer": "ipython3",
   "version": "3.10.5"
  },
  "orig_nbformat": 4
 },
 "nbformat": 4,
 "nbformat_minor": 2
}
